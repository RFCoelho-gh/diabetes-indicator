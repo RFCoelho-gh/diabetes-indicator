{
 "cells": [
  {
   "cell_type": "code",
   "execution_count": 1,
   "id": "cb274ae3-fe77-4be5-bae7-3a345fee1ad0",
   "metadata": {},
   "outputs": [
    {
     "ename": "SyntaxError",
     "evalue": "unterminated string literal (detected at line 21) (956876777.py, line 21)",
     "output_type": "error",
     "traceback": [
      "\u001b[1;36m  Cell \u001b[1;32mIn[1], line 21\u001b[1;36m\u001b[0m\n\u001b[1;33m    print(\"Confusion Matrix:\u001b[0m\n\u001b[1;37m          ^\u001b[0m\n\u001b[1;31mSyntaxError\u001b[0m\u001b[1;31m:\u001b[0m unterminated string literal (detected at line 21)\n"
     ]
    }
   ],
   "source": [
    "\n",
    "# Classification evaluation metrics for Random Forest\n",
    "from sklearn.metrics import accuracy_score, precision_score, recall_score, f1_score, confusion_matrix\n",
    "\n",
    "# Make predictions\n",
    "y_pred = forest.predict(X_test_norm)\n",
    "\n",
    "# Evaluate the classification model\n",
    "accuracy = accuracy_score(y_test, y_pred)\n",
    "precision = precision_score(y_test, y_pred, average='weighted')\n",
    "recall = recall_score(y_test, y_pred, average='weighted')\n",
    "f1 = f1_score(y_test, y_pred, average='weighted')\n",
    "\n",
    "print(\"Classification Model Performance:\")\n",
    "print(f\"Accuracy: {accuracy:.2f}\")\n",
    "print(f\"Precision: {precision:.2f}\")\n",
    "print(f\"Recall: {recall:.2f}\")\n",
    "print(f\"F1 Score: {f1:.2f}\")\n",
    "\n",
    "# Display confusion matrix for detailed performance analysis\n",
    "cm = confusion_matrix(y_test, y_pred)\n",
    "print(\"Confusion Matrix:\n",
    "\", cm)\n"
   ]
  },
  {
   "cell_type": "code",
   "execution_count": null,
   "id": "9ec834a2-3191-42c3-8217-335884754238",
   "metadata": {},
   "outputs": [],
   "source": [
    "# Load the CSV file from the data folder into a DataFrame\n",
    "main_df = pd.read_csv(\"data/diabetes_dataset.csv\")\n",
    "\n",
    "# Display the first few rows of the DataFrame\n",
    "main_df.head(3)"
   ]
  },
  {
   "cell_type": "code",
   "execution_count": null,
   "id": "f0a9c45c-52e2-4e9b-b95f-83c89718c8fd",
   "metadata": {},
   "outputs": [],
   "source": [
    "#main_df = main_df.drop(columns=['Fruits', 'GenHlth','AnyHealthcare','NoDocbcCost','Sex','CholCheck','Veggies','HvyAlcoholConsump','MentHlth','Smoker'])"
   ]
  },
  {
   "cell_type": "code",
   "execution_count": null,
   "id": "c5fd4fae-84b5-46d0-b608-dd72747bdaf2",
   "metadata": {},
   "outputs": [],
   "source": [
    "# Selecting all columns EXCEPT our target column as features of the model\n",
    "\n",
    "features = main_df.drop(columns=['Diabetes_012'])"
   ]
  },
  {
   "cell_type": "code",
   "execution_count": null,
   "id": "9e31d6aa-25d4-471d-b26d-06afd1777919",
   "metadata": {},
   "outputs": [],
   "source": [
    "# Defining the target column, as in, what do we want the model to predict\n",
    "\n",
    "target = main_df[\"Diabetes_012\"]"
   ]
  },
  {
   "cell_type": "code",
   "execution_count": null,
   "id": "7faef4b8-e7e3-42b9-bbfc-8a42609c7da8",
   "metadata": {},
   "outputs": [],
   "source": [
    "X_train, X_test, y_train, y_test = train_test_split(features, target, test_size = 0.20, random_state=0)"
   ]
  },
  {
   "cell_type": "code",
   "execution_count": null,
   "id": "dd172a68-ded9-49f9-9526-cc8c8214799e",
   "metadata": {},
   "outputs": [],
   "source": [
    "normalizer = MinMaxScaler()\n",
    "\n",
    "normalizer.fit(X_train)"
   ]
  },
  {
   "cell_type": "code",
   "execution_count": null,
   "id": "2ddd2705-63b6-4cb0-8a89-abbbe67b3688",
   "metadata": {},
   "outputs": [],
   "source": [
    "X_train_norm = normalizer.transform(X_train)\n",
    "\n",
    "X_test_norm = normalizer.transform(X_test)"
   ]
  },
  {
   "cell_type": "code",
   "execution_count": null,
   "id": "0e96c448-2fa2-49d5-8526-a8f3e6793f7c",
   "metadata": {},
   "outputs": [],
   "source": [
    "X_train_norm = pd.DataFrame(X_train_norm, columns = X_train.columns)\n",
    "X_train_norm.head(3)"
   ]
  },
  {
   "cell_type": "code",
   "execution_count": null,
   "id": "4359d71c-ed0f-4fe0-91c9-2195fb228a52",
   "metadata": {},
   "outputs": [],
   "source": [
    "X_test_norm = pd.DataFrame(X_test_norm, columns = X_test.columns)\n",
    "X_test_norm.head(3)"
   ]
  },
  {
   "cell_type": "code",
   "execution_count": null,
   "id": "3049c97d-aa43-4453-9491-62c10d078b61",
   "metadata": {},
   "outputs": [],
   "source": [
    "bagging_reg = BaggingRegressor(DecisionTreeRegressor(max_depth=50),\n",
    "                               n_estimators=500,\n",
    "                               max_samples = 2000)"
   ]
  },
  {
   "cell_type": "code",
   "execution_count": null,
   "id": "1d85340f-8b40-44f1-a473-4adcaaebb202",
   "metadata": {},
   "outputs": [],
   "source": [
    "bagging_reg.fit(X_train_norm, y_train)"
   ]
  },
  {
   "cell_type": "code",
   "execution_count": null,
   "id": "4d8ca7ac-9889-4399-a21f-db02f9342580",
   "metadata": {},
   "outputs": [],
   "source": [
    "\n",
    "# Classification evaluation metrics for Random Forest\n",
    "from sklearn.metrics import accuracy_score, precision_score, recall_score, f1_score, confusion_matrix\n",
    "\n",
    "# Make predictions\n",
    "y_pred = forest.predict(X_test_norm)\n",
    "\n",
    "# Evaluate the classification model\n",
    "accuracy = accuracy_score(y_test, y_pred)\n",
    "precision = precision_score(y_test, y_pred, average='weighted')\n",
    "recall = recall_score(y_test, y_pred, average='weighted')\n",
    "f1 = f1_score(y_test, y_pred, average='weighted')\n",
    "\n",
    "print(\"Classification Model Performance:\")\n",
    "print(f\"Accuracy: {accuracy:.2f}\")\n",
    "print(f\"Precision: {precision:.2f}\")\n",
    "print(f\"Recall: {recall:.2f}\")\n",
    "print(f\"F1 Score: {f1:.2f}\")\n",
    "\n",
    "# Display confusion matrix for detailed performance analysis\n",
    "cm = confusion_matrix(y_test, y_pred)\n",
    "print(\"Confusion Matrix:\n",
    "\", cm)\n"
   ]
  },
  {
   "cell_type": "code",
   "execution_count": null,
   "id": "fd63d8b6-c72c-4064-9f6f-df19b35784db",
   "metadata": {},
   "outputs": [],
   "source": [
    "from sklearn.ensemble import RandomForestClassifier, AdaBoostClassifier, BaggingClassifier\n",
    "forest = RandomForestClassifier(n_estimators=500,\n",
    "                             max_depth=50)"
   ]
  },
  {
   "cell_type": "code",
   "execution_count": null,
   "id": "902ae816-9f79-4981-9220-b1ed0fe10bb2",
   "metadata": {},
   "outputs": [],
   "source": [
    "forest.fit(X_train_norm, y_train)"
   ]
  },
  {
   "cell_type": "code",
   "execution_count": null,
   "id": "c4c8ced5-ee74-4c13-8c5d-68f9a63f94c4",
   "metadata": {},
   "outputs": [],
   "source": [
    "\n",
    "# Classification evaluation metrics for Random Forest\n",
    "from sklearn.metrics import accuracy_score, precision_score, recall_score, f1_score, confusion_matrix\n",
    "\n",
    "# Make predictions\n",
    "y_pred = forest.predict(X_test_norm)\n",
    "\n",
    "# Evaluate the classification model\n",
    "accuracy = accuracy_score(y_test, y_pred)\n",
    "precision = precision_score(y_test, y_pred, average='weighted')\n",
    "recall = recall_score(y_test, y_pred, average='weighted')\n",
    "f1 = f1_score(y_test, y_pred, average='weighted')\n",
    "\n",
    "print(\"Classification Model Performance:\")\n",
    "print(f\"Accuracy: {accuracy:.2f}\")\n",
    "print(f\"Precision: {precision:.2f}\")\n",
    "print(f\"Recall: {recall:.2f}\")\n",
    "print(f\"F1 Score: {f1:.2f}\")\n",
    "\n",
    "# Display confusion matrix for detailed performance analysis\n",
    "cm = confusion_matrix(y_test, y_pred)\n",
    "print(\"Confusion Matrix:\n",
    "\", cm)\n"
   ]
  }
 ],
 "metadata": {
  "kernelspec": {
   "display_name": "Python 3 (ipykernel)",
   "language": "python",
   "name": "python3"
  },
  "language_info": {
   "codemirror_mode": {
    "name": "ipython",
    "version": 3
   },
   "file_extension": ".py",
   "mimetype": "text/x-python",
   "name": "python",
   "nbconvert_exporter": "python",
   "pygments_lexer": "ipython3",
   "version": "3.12.4"
  }
 },
 "nbformat": 4,
 "nbformat_minor": 5
}
